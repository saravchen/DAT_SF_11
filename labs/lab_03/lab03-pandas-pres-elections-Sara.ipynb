{
 "metadata": {
  "name": "",
  "signature": "sha256:9d93871e1b88a72947447f85122e3f2c9835b93730e14c1346ac19285ea08135"
 },
 "nbformat": 3,
 "nbformat_minor": 0,
 "worksheets": [
  {
   "cells": [
    {
     "cell_type": "code",
     "collapsed": false,
     "input": [
      "# Standard imports for data analysis packages in Python\n",
      "import pandas as pd\n",
      "import numpy as np\n",
      "import seaborn as sns\n",
      "import matplotlib.pyplot as plt\n",
      "\n",
      "# This enables inline Plots\n",
      "%matplotlib inline\n",
      "\n",
      "# Limit rows displayed in notebook\n",
      "pd.set_option('display.max_rows', 10)\n",
      "pd.set_option('display.precision', 2)"
     ],
     "language": "python",
     "metadata": {},
     "outputs": [],
     "prompt_number": 2
    },
    {
     "cell_type": "code",
     "collapsed": false,
     "input": [
      "# Let's explore Presidential Elections Dataset\n",
      "\n",
      "pres_2004 = pd.read_csv('../data/us_pres_elections/2004_election_results.csv')"
     ],
     "language": "python",
     "metadata": {},
     "outputs": [],
     "prompt_number": 3
    },
    {
     "cell_type": "code",
     "collapsed": false,
     "input": [
      "# Look at first 5 rows\n",
      "pres_2004.head(5)"
     ],
     "language": "python",
     "metadata": {},
     "outputs": [
      {
       "html": [
        "<div style=\"max-height:1000px;max-width:1500px;overflow:auto;\">\n",
        "<table border=\"1\" class=\"dataframe\">\n",
        "  <thead>\n",
        "    <tr style=\"text-align: right;\">\n",
        "      <th></th>\n",
        "      <th>STATE</th>\n",
        "      <th> Bush</th>\n",
        "      <th>Kerry</th>\n",
        "      <th>All Others</th>\n",
        "      <th>Total Vote</th>\n",
        "    </tr>\n",
        "  </thead>\n",
        "  <tbody>\n",
        "    <tr>\n",
        "      <th>0</th>\n",
        "      <td> AL</td>\n",
        "      <td> 1,176,394</td>\n",
        "      <td>   693,933</td>\n",
        "      <td>  13,122</td>\n",
        "      <td>  1,883,449</td>\n",
        "    </tr>\n",
        "    <tr>\n",
        "      <th>1</th>\n",
        "      <td> AK</td>\n",
        "      <td>   190,889</td>\n",
        "      <td>   111,025</td>\n",
        "      <td>  10,684</td>\n",
        "      <td>    312,598</td>\n",
        "    </tr>\n",
        "    <tr>\n",
        "      <th>2</th>\n",
        "      <td> AZ</td>\n",
        "      <td> 1,104,294</td>\n",
        "      <td>   893,524</td>\n",
        "      <td>  14,767</td>\n",
        "      <td>  2,012,585</td>\n",
        "    </tr>\n",
        "    <tr>\n",
        "      <th>3</th>\n",
        "      <td> AR</td>\n",
        "      <td>   572,898</td>\n",
        "      <td>   469,953</td>\n",
        "      <td>  12,094</td>\n",
        "      <td>  1,054,945</td>\n",
        "    </tr>\n",
        "    <tr>\n",
        "      <th>4</th>\n",
        "      <td> CA</td>\n",
        "      <td> 5,509,826</td>\n",
        "      <td> 6,745,485</td>\n",
        "      <td> 166,541</td>\n",
        "      <td> 12,421,852</td>\n",
        "    </tr>\n",
        "  </tbody>\n",
        "</table>\n",
        "</div>"
       ],
       "metadata": {},
       "output_type": "pyout",
       "prompt_number": 4,
       "text": [
        "  STATE       Bush      Kerry All Others  Total Vote\n",
        "0    AL  1,176,394    693,933     13,122   1,883,449\n",
        "1    AK    190,889    111,025     10,684     312,598\n",
        "2    AZ  1,104,294    893,524     14,767   2,012,585\n",
        "3    AR    572,898    469,953     12,094   1,054,945\n",
        "4    CA  5,509,826  6,745,485    166,541  12,421,852"
       ]
      }
     ],
     "prompt_number": 4
    },
    {
     "cell_type": "code",
     "collapsed": false,
     "input": [
      "pres_2004.tail(5)"
     ],
     "language": "python",
     "metadata": {},
     "outputs": [
      {
       "html": [
        "<div style=\"max-height:1000px;max-width:1500px;overflow:auto;\">\n",
        "<table border=\"1\" class=\"dataframe\">\n",
        "  <thead>\n",
        "    <tr style=\"text-align: right;\">\n",
        "      <th></th>\n",
        "      <th>STATE</th>\n",
        "      <th> Bush</th>\n",
        "      <th>Kerry</th>\n",
        "      <th>All Others</th>\n",
        "      <th>Total Vote</th>\n",
        "    </tr>\n",
        "  </thead>\n",
        "  <tbody>\n",
        "    <tr>\n",
        "      <th>46</th>\n",
        "      <td> VA</td>\n",
        "      <td> 1,716,959</td>\n",
        "      <td> 1,454,742</td>\n",
        "      <td> 26,666</td>\n",
        "      <td> 3,198,367</td>\n",
        "    </tr>\n",
        "    <tr>\n",
        "      <th>47</th>\n",
        "      <td> WA</td>\n",
        "      <td> 1,304,894</td>\n",
        "      <td> 1,510,201</td>\n",
        "      <td> 43,989</td>\n",
        "      <td> 2,859,084</td>\n",
        "    </tr>\n",
        "    <tr>\n",
        "      <th>48</th>\n",
        "      <td> WV</td>\n",
        "      <td>   423,778</td>\n",
        "      <td>   326,541</td>\n",
        "      <td>  5,568</td>\n",
        "      <td>   755,887</td>\n",
        "    </tr>\n",
        "    <tr>\n",
        "      <th>49</th>\n",
        "      <td> WI</td>\n",
        "      <td> 1,478,120</td>\n",
        "      <td> 1,489,504</td>\n",
        "      <td> 29,383</td>\n",
        "      <td> 2,997,007</td>\n",
        "    </tr>\n",
        "    <tr>\n",
        "      <th>50</th>\n",
        "      <td> WY</td>\n",
        "      <td>   167,629</td>\n",
        "      <td>    70,776</td>\n",
        "      <td>  5,023</td>\n",
        "      <td>   243,428</td>\n",
        "    </tr>\n",
        "  </tbody>\n",
        "</table>\n",
        "</div>"
       ],
       "metadata": {},
       "output_type": "pyout",
       "prompt_number": 5,
       "text": [
        "   STATE       Bush      Kerry All Others Total Vote\n",
        "46    VA  1,716,959  1,454,742     26,666  3,198,367\n",
        "47    WA  1,304,894  1,510,201     43,989  2,859,084\n",
        "48    WV    423,778    326,541      5,568    755,887\n",
        "49    WI  1,478,120  1,489,504     29,383  2,997,007\n",
        "50    WY    167,629     70,776      5,023    243,428"
       ]
      }
     ],
     "prompt_number": 5
    },
    {
     "cell_type": "code",
     "collapsed": false,
     "input": [
      "# do a Info to look at datatypes\n",
      "# Do you see any missing data?\n",
      "pres_2004.info()"
     ],
     "language": "python",
     "metadata": {},
     "outputs": [
      {
       "output_type": "stream",
       "stream": "stdout",
       "text": [
        "<class 'pandas.core.frame.DataFrame'>\n",
        "Int64Index: 51 entries, 0 to 50\n",
        "Data columns (total 5 columns):\n",
        "STATE         51 non-null object\n",
        " Bush         51 non-null object\n",
        "Kerry         51 non-null object\n",
        "All Others    51 non-null object\n",
        "Total Vote    51 non-null object\n",
        "dtypes: object(5)"
       ]
      }
     ],
     "prompt_number": 7
    },
    {
     "cell_type": "code",
     "collapsed": false,
     "input": [
      "pres_2004.columns"
     ],
     "language": "python",
     "metadata": {},
     "outputs": [
      {
       "metadata": {},
       "output_type": "pyout",
       "prompt_number": 52,
       "text": [
        "Index([u'STATE', u' Bush', u'Kerry', u'All Others', u'Total Vote'], dtype='object')"
       ]
      }
     ],
     "prompt_number": 52
    },
    {
     "cell_type": "code",
     "collapsed": false,
     "input": [
      "# Notice that 'Bush' has a space in the front.\n",
      "# Replace column name ' Bush' with 'Bush'\n",
      "\n",
      "## Your Turn"
     ],
     "language": "python",
     "metadata": {},
     "outputs": [],
     "prompt_number": 53
    },
    {
     "cell_type": "code",
     "collapsed": false,
     "input": [],
     "language": "python",
     "metadata": {},
     "outputs": []
    },
    {
     "cell_type": "code",
     "collapsed": false,
     "input": [
      "# Let's convert the string value for votes into numbers\n",
      "# Here's a sample - pres_2004.Kerry.map(lambda x: x.strip().replace(',', '')).astype(int)\n",
      "\n",
      "# Do this for Bush, Kerry, All Others, Total Votes"
     ],
     "language": "python",
     "metadata": {},
     "outputs": [],
     "prompt_number": 58
    },
    {
     "cell_type": "code",
     "collapsed": false,
     "input": [],
     "language": "python",
     "metadata": {},
     "outputs": [],
     "prompt_number": 58
    },
    {
     "cell_type": "code",
     "collapsed": false,
     "input": [
      "# OK Now, read the \"electoral_votes_by_state.csv\" Dataset.  What do you see\n",
      "# Call it electoral_votes\n",
      "electoral_votes = pd.read_csv('../data/us_pres_elections/electoral_votes_by_state.csv')"
     ],
     "language": "python",
     "metadata": {},
     "outputs": [],
     "prompt_number": 63
    },
    {
     "cell_type": "code",
     "collapsed": false,
     "input": [
      "electoral_votes.info()"
     ],
     "language": "python",
     "metadata": {},
     "outputs": [
      {
       "output_type": "stream",
       "stream": "stdout",
       "text": [
        "<class 'pandas.core.frame.DataFrame'>\n",
        "Int64Index: 51 entries, 0 to 50\n",
        "Data columns (total 2 columns):\n",
        "STATE              51 non-null object\n",
        "Electoral Votes    51 non-null int64\n",
        "dtypes: int64(1), object(1)\n",
        "memory usage: 1.2+ KB\n"
       ]
      }
     ],
     "prompt_number": 66
    },
    {
     "cell_type": "markdown",
     "metadata": {},
     "source": [
      "### Merge Electoral votes with pres_2004 to see who won and by how many electoral votes\n",
      "\n",
      "* Merge vs Join"
     ]
    },
    {
     "cell_type": "code",
     "collapsed": false,
     "input": [
      "# pres_2004.merge(electoral_votes)"
     ],
     "language": "python",
     "metadata": {},
     "outputs": [],
     "prompt_number": 74
    },
    {
     "cell_type": "code",
     "collapsed": false,
     "input": [
      "# Award the electoral Votes to the candidate that had the most votes in the stae\n",
      "# How much did Kerry and Bush get?"
     ],
     "language": "python",
     "metadata": {},
     "outputs": [],
     "prompt_number": 75
    },
    {
     "cell_type": "code",
     "collapsed": false,
     "input": [
      "# Now add a NEW Column and set it to 2004.  We are going to merge files later\n",
      "pres_2004['year'] = 2004"
     ],
     "language": "python",
     "metadata": {},
     "outputs": [],
     "prompt_number": 87
    },
    {
     "cell_type": "code",
     "collapsed": false,
     "input": [],
     "language": "python",
     "metadata": {},
     "outputs": []
    },
    {
     "cell_type": "markdown",
     "metadata": {},
     "source": [
      "### Read in 2008 and Append the rows of 2008 with 2004"
     ]
    },
    {
     "cell_type": "code",
     "collapsed": false,
     "input": [
      "pres_2008 = pd.read_csv('../data/us_pres_elections/2008_election_results.csv')"
     ],
     "language": "python",
     "metadata": {},
     "outputs": [],
     "prompt_number": 76
    },
    {
     "cell_type": "code",
     "collapsed": false,
     "input": [
      "# your turn\n",
      "pres_2004.append"
     ],
     "language": "python",
     "metadata": {},
     "outputs": []
    },
    {
     "cell_type": "markdown",
     "metadata": {},
     "source": [
      "### Read in 2012 Election results too"
     ]
    },
    {
     "cell_type": "code",
     "collapsed": false,
     "input": [
      "# Your Turn"
     ],
     "language": "python",
     "metadata": {},
     "outputs": [],
     "prompt_number": 88
    },
    {
     "cell_type": "code",
     "collapsed": false,
     "input": [],
     "language": "python",
     "metadata": {},
     "outputs": [],
     "prompt_number": 88
    },
    {
     "cell_type": "markdown",
     "metadata": {},
     "source": [
      "### Create a new data frame to classify each of the presidential candidates in 2004, 2008 and 2012 as Democrat or Republican"
     ]
    },
    {
     "cell_type": "code",
     "collapsed": false,
     "input": [
      "# Your Turn"
     ],
     "language": "python",
     "metadata": {},
     "outputs": [],
     "prompt_number": 89
    },
    {
     "cell_type": "code",
     "collapsed": false,
     "input": [],
     "language": "python",
     "metadata": {},
     "outputs": [],
     "prompt_number": 89
    },
    {
     "cell_type": "markdown",
     "metadata": {},
     "source": [
      "### Now, can you give electoral vote counts for the three elections (04, 08, 12) by Party Afiliation"
     ]
    },
    {
     "cell_type": "code",
     "collapsed": false,
     "input": [
      "# your turn"
     ],
     "language": "python",
     "metadata": {},
     "outputs": [],
     "prompt_number": 90
    },
    {
     "cell_type": "code",
     "collapsed": false,
     "input": [],
     "language": "python",
     "metadata": {},
     "outputs": [],
     "prompt_number": 90
    },
    {
     "cell_type": "markdown",
     "metadata": {},
     "source": [
      "### What States are safely Republican or Democratic."
     ]
    },
    {
     "cell_type": "code",
     "collapsed": false,
     "input": [
      "# Your Turn"
     ],
     "language": "python",
     "metadata": {},
     "outputs": [],
     "prompt_number": 91
    },
    {
     "cell_type": "code",
     "collapsed": false,
     "input": [],
     "language": "python",
     "metadata": {},
     "outputs": [],
     "prompt_number": 91
    },
    {
     "cell_type": "markdown",
     "metadata": {},
     "source": [
      "### Challenge: What states decide the fate of elections?"
     ]
    },
    {
     "cell_type": "code",
     "collapsed": false,
     "input": [
      "# Your Turn"
     ],
     "language": "python",
     "metadata": {},
     "outputs": [],
     "prompt_number": 92
    },
    {
     "cell_type": "code",
     "collapsed": false,
     "input": [],
     "language": "python",
     "metadata": {},
     "outputs": []
    }
   ],
   "metadata": {}
  }
 ]
}