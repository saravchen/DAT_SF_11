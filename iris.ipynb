{
 "metadata": {
  "name": "",
  "signature": "sha256:7865548df6c76868728ddfd9bdba8b3a8ae878752ee418ff7789d72ae69351d3"
 },
 "nbformat": 3,
 "nbformat_minor": 0,
 "worksheets": [
  {
   "cells": [
    {
     "cell_type": "code",
     "collapsed": false,
     "input": [
      "from sklearn.datasets import load_iris\n",
      "from sklearn import tree\n",
      "iris = load_iris()\n",
      "clf = tree.DecisionTreeClassifier()\n",
      "clf = clf.fit(iris.data, iris.target)\n",
      "\n",
      "\n",
      "from sklearn.externals.six import StringIO\n",
      "import pydot\n",
      "dot_data = StringIO()\n",
      "tree.export_graphviz(clf, out_file=dot_data)\n",
      "graph = pydot.graph_from_dot_data(dot_data.getvalue())\n",
      "graph.write_pdf(\"iris.pdf\")\n"
     ],
     "language": "python",
     "metadata": {},
     "outputs": [
      {
       "metadata": {},
       "output_type": "pyout",
       "prompt_number": 1,
       "text": [
        "True"
       ]
      }
     ],
     "prompt_number": 1
    },
    {
     "cell_type": "code",
     "collapsed": false,
     "input": [],
     "language": "python",
     "metadata": {},
     "outputs": []
    }
   ],
   "metadata": {}
  }
 ]
}